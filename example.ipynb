{
 "cells": [
  {
   "cell_type": "markdown",
   "metadata": {},
   "source": [
    "# A new statistical method to analyze Morris Water Maze data using Dirichlet distribution"
   ]
  },
  {
   "cell_type": "markdown",
   "metadata": {},
   "source": [
    "With this notebook you can easily reproduce the results presented in our paper. We also provide a code that can be easily adapted to your own data in order to obtain the results of the statistical test based on Dirichlet distribution and the corresponding plots.\n",
    "\n",
    "Follow the instructions alongside the code and run the code to obtain your results !\n",
    "\n",
    "Be careful: the use of this notebook requires the installation of Python 2 and Jupyter on your computer."
   ]
  },
  {
   "cell_type": "markdown",
   "metadata": {},
   "source": [
    "## I) Apply the test on our data"
   ]
  },
  {
   "cell_type": "code",
   "execution_count": 1,
   "metadata": {},
   "outputs": [],
   "source": [
    "# This part of the code imports the packages of Python that are required for the code.\n",
    "import numpy as np\n",
    "import matplotlib.pyplot as plt\n",
    "import matplotlib as mpl\n",
    "import os, sys\n",
    "import scipy"
   ]
  },
  {
   "cell_type": "code",
   "execution_count": 2,
   "metadata": {},
   "outputs": [
    {
     "data": {
      "image/png": "[encoded data removed]",
      "text/plain": [
       "<Figure size 144x216 with 1 Axes>"
      ]
     },
     "metadata": {
      "image/png": {
       "height": 208,
       "width": 157
      },
      "needs_background": "light"
     },
     "output_type": "display_data"
    },
    {
     "data": {
      "image/png": "[encoded data removed]",
      "text/plain": [
       "<Figure size 144x216 with 1 Axes>"
      ]
     },
     "metadata": {
      "image/png": {
       "height": 208,
       "width": 157
      },
      "needs_background": "light"
     },
     "output_type": "display_data"
    }
   ],
   "source": [
    "%matplotlib inline\n",
    "\n",
    "sys.path.insert(0, '.')\n",
    "from  dirichlet import dirichlet\n",
    "\n",
    "###########################################################\n",
    "\n",
    "# Data are presented in this part of the code: [TQ,AQ1,OQ,AQ2] for each sample.\n",
    "\n",
    "data_3tg = np.array([[45.3,15.7,27.6,11.4],[21.2,21.9,24.4,32.5],[26.2,31.3,21.5,21],[37,24.5,12.3,26.3],[30.2,32.7,16.8,20.3],[28.9,20.9,18.8,31.5],[22.8,30,29.1,18.2]])*1/100\n",
    "data_wt = np.array([[44.3,12.9,26.2,16.7],[28.2,26.3,27.6,18],[41.1,15.2,13.9,29.9],[57.5,13.3,13.2,16.1],[52.9,9.3,10.3,27.5],[41.9,35.3,14.7,8.1],[30.9,26.9,17.4,24.8]])*1/100\n",
    "\n",
    "###########################################################\n",
    "\n",
    "# This part of the code applies the test to compare our data to a uniform distribution and plot the results.\n",
    "\n",
    "dirichlet.plot(data_3tg, label='3Tg', save_figure='3Tg.pdf')\n",
    "dirichlet.plot(data_wt, label='wt', save_figure='wt.pdf')\n",
    "\n",
    "# Click on the play button to run the code."
   ]
  },
  {
   "cell_type": "markdown",
   "metadata": {},
   "source": [
    "## II) Apply the test on your data"
   ]
  },
  {
   "cell_type": "code",
   "execution_count": null,
   "metadata": {
    "collapsed": true
   },
   "outputs": [],
   "source": [
    "# This part of the code imports the packages of Python that are required for the code. \n",
    "# You don't have to modify anything.\n",
    "\n",
    "import numpy as np\n",
    "import matplotlib.pyplot as plt\n",
    "import matplotlib as mpl\n",
    "import os, sys\n",
    "import scipy\n",
    "\n",
    "%matplotlib inline\n",
    "\n",
    "sys.path.insert(0, './dirichlet/')\n",
    "from  dirichlet import dirichlet\n",
    "\n",
    "###########################################################\n",
    "\n",
    "# In this section you have to enter your data: time spent by each individual in each quadrant.\n",
    "# Select your group and for each individual add a tuple using the folowing syntax: [Target,Adjacent,Opposite,Adjacent].\n",
    "# Tuples are separated by ','.\n",
    "\n",
    "your_data = np.array([[TQ1,AQ1,OQ1,AQ1],[TQ2,AQ2,OQ2,AQ2]])*1/100\n",
    "\n",
    "# Any problem ? Have a look on the example above presenting our data.\n",
    "\n",
    "\n",
    "###########################################################\n",
    "\n",
    "# This part of the code applies the test to compare our data to a uniform distribution and plot the results.\n",
    "# You can manually enter the name of your group to obtain your plot.\n",
    "\n",
    "dirichlet.plot(your_data,label='Name-of-your-group')\n",
    "\n",
    "# Click on the play button to run the code.\n",
    "\n"
   ]
  }
 ],
 "metadata": {
  "kernelspec": {
   "display_name": "Python 2",
   "language": "python",
   "name": "python2"
  },
  "language_info": {
   "codemirror_mode": {
    "name": "ipython",
    "version": 2
   },
   "file_extension": ".py",
   "mimetype": "text/x-python",
   "name": "python",
   "nbconvert_exporter": "python",
   "pygments_lexer": "ipython2",
   "version": "2.7.15"
  }
 },
 "nbformat": 4,
 "nbformat_minor": 2
}
